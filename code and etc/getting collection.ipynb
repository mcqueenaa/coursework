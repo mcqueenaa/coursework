{
 "cells": [
  {
   "cell_type": "markdown",
   "metadata": {},
   "source": [
    "This program gets article collection for future computing of tf-idfs.\n",
    "The articles are collected from http://dobryanka.net."
   ]
  },
  {
   "cell_type": "code",
   "execution_count": 1,
   "metadata": {
    "collapsed": true
   },
   "outputs": [],
   "source": [
    "import urllib.request  \n",
    "import re\n",
    "import os"
   ]
  },
  {
   "cell_type": "code",
   "execution_count": 2,
   "metadata": {
    "collapsed": true
   },
   "outputs": [],
   "source": [
    "user_agent = 'Mozilla/5.0 (Windows NT 6.1; Win64; x64)'\n",
    "sections = ['obshchestvo', 'politika', 'kultura', 'proishestviya', 'ekonomika', 'sport'] \n",
    "commonUrl = 'http://dobryanka.net/news/'"
   ]
  },
  {
   "cell_type": "code",
   "execution_count": 3,
   "metadata": {
    "collapsed": true
   },
   "outputs": [],
   "source": [
    "def download_html(pageUrl): ## downloading the text of an html page\n",
    "    try:\n",
    "        page = urllib.request.Request(pageUrl, headers={'User-Agent':user_agent})\n",
    "        with urllib.request.urlopen(page) as hpage:\n",
    "            html = hpage.read().decode('utf-8')\n",
    "        return html\n",
    "    except:\n",
    "        print('there\\'s no such page', pageUrl)\n",
    "        html = None\n",
    "        return html"
   ]
  },
  {
   "cell_type": "code",
   "execution_count": 4,
   "metadata": {
    "collapsed": true
   },
   "outputs": [],
   "source": [
    "def download_text(pageUrl): ## getting clean text of an article\n",
    "    regText = re.compile('<div class=\"itemIntroText\">.*?<div class=\"itemFullText\">.*?<div class=\"itemContentFooter\">', re.DOTALL)\n",
    "    regSpace = re.compile('\\s{2,}', re.DOTALL)\n",
    "    regTag = re.compile('<.*?>', re.DOTALL)\n",
    "    html = download_html(pageUrl)\n",
    "    if html:\n",
    "        if re.search(regText, html):\n",
    "            text = re.search(regText, html).group(0)\n",
    "            text = regSpace.sub(\" \", text)\n",
    "            text = regTag.sub(\"\", text)\n",
    "            text = re.sub(r'&.*?;', '', text)\n",
    "        else:\n",
    "            text = None\n",
    "        return text"
   ]
  },
  {
   "cell_type": "code",
   "execution_count": 5,
   "metadata": {
    "collapsed": true
   },
   "outputs": [],
   "source": [
    "def get_article(): ## saving the texts of the articles in files\n",
    "    for section in sections:\n",
    "        for i in range(9000,9135):\n",
    "            pageUrl = commonUrl + section + '/item/' + str(i)\n",
    "            html = download_html(pageUrl)\n",
    "            if html:\n",
    "                print(\"i'm on the page\", pageUrl)\n",
    "                text = download_text(pageUrl)\n",
    "                if text:\n",
    "                    with open('collection/article ' + section + ' ' + str(i) + '.txt', 'w', encoding = 'utf-8') as b:\n",
    "                        b.write(text)"
   ]
  },
  {
   "cell_type": "code",
   "execution_count": null,
   "metadata": {
    "collapsed": true
   },
   "outputs": [],
   "source": [
    "get_article() ## articles saved"
   ]
  }
 ],
 "metadata": {
  "kernelspec": {
   "display_name": "Python 3",
   "language": "python",
   "name": "python3"
  },
  "language_info": {
   "codemirror_mode": {
    "name": "ipython",
    "version": 3
   },
   "file_extension": ".py",
   "mimetype": "text/x-python",
   "name": "python",
   "nbconvert_exporter": "python",
   "pygments_lexer": "ipython3",
   "version": "3.6.1"
  }
 },
 "nbformat": 4,
 "nbformat_minor": 2
}
