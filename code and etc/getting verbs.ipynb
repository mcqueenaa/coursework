{
 "cells": [
  {
   "cell_type": "markdown",
   "metadata": {},
   "source": [
    "This program gets the list of relevant verbs for texts on Geometry using TF-IDF metric.\n",
    "Geometry texts were collected in 'getting corpus' program.\n",
    "The texts collection was collected in from 'getting collection' program.\n",
    "The verbs are saved into json, txt and csv files."
   ]
  },
  {
   "cell_type": "code",
   "execution_count": 33,
   "metadata": {
    "collapsed": true
   },
   "outputs": [],
   "source": [
    "import pymorphy2 as pm2 \n",
    "pmm = pm2.MorphAnalyzer() \n",
    "from pymystem3 import Mystem\n",
    "m = Mystem()\n",
    "import re\n",
    "import os\n",
    "import json"
   ]
  },
  {
   "cell_type": "code",
   "execution_count": 78,
   "metadata": {
    "collapsed": true
   },
   "outputs": [],
   "source": [
    "def pmm_get_all_verbs(text): ## getting all verbs and their numbers from the text\n",
    "    verbs = {}\n",
    "    n_text = re.sub(r'[^\\w\\s]','', text) \n",
    "    n_text = re.sub(r'\\d', '', n_text) \n",
    "    n_text = re.sub(r'[A-Za-z]', '', n_text)\n",
    "    for word in n_text.split():\n",
    "        w_gr = str(pmm.tag(word)[0])\n",
    "        pos = w_gr.split()[0].split(',')[0]\n",
    "        if pos == 'VERB' or pos == 'INFN':\n",
    "            verb = pmm.normal_forms(word)[0]\n",
    "            if verb in verbs:\n",
    "                verbs[verb] += 1\n",
    "            else:\n",
    "                verbs[verb] = 1\n",
    "    return verbs"
   ]
  },
  {
   "cell_type": "code",
   "execution_count": 79,
   "metadata": {
    "collapsed": true
   },
   "outputs": [],
   "source": [
    "with open('all geometry.txt', 'r', encoding='utf-8') as t: ## got all verbs (from the TEST text!)\n",
    "    text = t.read()\n",
    "pmm_verbs = pmm_get_all_verbs(text)"
   ]
  },
  {
   "cell_type": "code",
   "execution_count": 37,
   "metadata": {
    "collapsed": true
   },
   "outputs": [],
   "source": [
    "def save_to_json(title, variable): ## saving a variable in json a file. title - name of the json file\n",
    "    with open(title, \"w\", encoding = 'utf-8') as t:\n",
    "        json.dump(variable, t)"
   ]
  },
  {
   "cell_type": "code",
   "execution_count": 38,
   "metadata": {
    "collapsed": true
   },
   "outputs": [],
   "source": [
    "def get_from_json(title): ## getting a variable from a json file. title - name of the json file\n",
    "    with open(title, \"r\", encoding = 'utf-8') as t:\n",
    "        variable = json.load(t)\n",
    "    return variable"
   ]
  },
  {
   "cell_type": "code",
   "execution_count": 81,
   "metadata": {
    "collapsed": true
   },
   "outputs": [],
   "source": [
    "## saving all verbs into json file\n",
    "save_to_json(\"verbs.json\", pmm_verbs)"
   ]
  },
  {
   "cell_type": "code",
   "execution_count": 82,
   "metadata": {
    "collapsed": true
   },
   "outputs": [],
   "source": [
    "## getting all verbs from the json file\n",
    "verbs = get_from_json(\"verbs.json\")"
   ]
  },
  {
   "cell_type": "code",
   "execution_count": 44,
   "metadata": {
    "collapsed": true
   },
   "outputs": [],
   "source": [
    "def get_tfs(verbs): ## getting tfs for all the verbs\n",
    "    tfs = []\n",
    "    v_total = sum(verbs.values())\n",
    "    for key, value in verbs.items():\n",
    "        tf = value/v_total\n",
    "        tfs.append((key, tf))\n",
    "    return tfs"
   ]
  },
  {
   "cell_type": "code",
   "execution_count": 45,
   "metadata": {
    "collapsed": true
   },
   "outputs": [],
   "source": [
    "def get_lemmas(article): ## turning text into the list of its lemmas\n",
    "    article = re.sub(r'[^\\w\\s]','', article) \n",
    "    article = re.sub(r'\\d', '', article) \n",
    "    article = re.sub(r'[A-Za-z]', '', article)\n",
    "    lem_article = [pmm.normal_forms(x)[0] for x in article.split()]\n",
    "    return lem_article"
   ]
  },
  {
   "cell_type": "code",
   "execution_count": 46,
   "metadata": {
    "collapsed": true
   },
   "outputs": [],
   "source": [
    "def get_idfs(verbs, folder): ## getting idfs for all the verbs. folder - the folder containing the collection of the documents\n",
    "    f_total = len([name for name in os.listdir(folder) if os.path.isfile(os.path.join(folder, name))]) \n",
    "    v_presence = {}\n",
    "    for verb in verbs:\n",
    "        v_presence[verb] = 1\n",
    "    idfs = []\n",
    "    for root, dirs, files in os.walk(folder):\n",
    "        for name in files:\n",
    "            if name != 'all geometry.txt': ##\n",
    "                with open(os.path.join(folder, name), 'r', encoding='utf-8') as a:\n",
    "                    article = a.read()\n",
    "                lemmas = get_lemmas(article)\n",
    "                for verb in verbs:\n",
    "                    if verb in lemmas:\n",
    "                        v_presence[verb] += 1\n",
    "    for verb in v_presence:\n",
    "        idf = f_total/v_presence[verb]\n",
    "        idfs.append((verb, idf))\n",
    "    return idfs"
   ]
  },
  {
   "cell_type": "code",
   "execution_count": 73,
   "metadata": {
    "collapsed": true
   },
   "outputs": [],
   "source": [
    "def get_tf_idf(verbs, folder): ## getting tf-idf for all the verbs\n",
    "    \n",
    "    tfs = get_tfs(verbs)\n",
    "    idfs = get_idfs(verbs, folder)\n",
    "    tf_idfs = []\n",
    "    for t, i in zip(tfs, idfs):\n",
    "        tf_idf = t[1] * i[1]\n",
    "        tf_idfs.append((t[0], tf_idf))\n",
    "    return tf_idfs"
   ]
  },
  {
   "cell_type": "code",
   "execution_count": 83,
   "metadata": {},
   "outputs": [],
   "source": [
    "tf_idfs = get_tf_idf(verbs, 'collection') ## got tf-idfs"
   ]
  },
  {
   "cell_type": "code",
   "execution_count": 84,
   "metadata": {
    "collapsed": true
   },
   "outputs": [],
   "source": [
    "## saving all verbs into json file \n",
    "save_to_json(\"tf-idf.json\", tf_idfs)"
   ]
  },
  {
   "cell_type": "code",
   "execution_count": 85,
   "metadata": {
    "collapsed": true
   },
   "outputs": [],
   "source": [
    "## getting all verbs from the json file \n",
    "tf_idfs = get_from_json(\"tf-idf.json\")"
   ]
  },
  {
   "cell_type": "code",
   "execution_count": 94,
   "metadata": {
    "collapsed": true
   },
   "outputs": [],
   "source": [
    "## making a csv table containing verbs and their tf-idfs\n",
    "with open(\"verbs and tf-idf.csv\", \"a\", encoding = 'utf-8') as v:\n",
    "    v.write('verbs;tf-idf\\n')\n",
    "    for i in tf_idfs:\n",
    "        v.write(i[0] + ';' + str(i[1]) + '\\n')"
   ]
  },
  {
   "cell_type": "code",
   "execution_count": 88,
   "metadata": {
    "collapsed": true
   },
   "outputs": [],
   "source": [
    "def get_good_verbs(): ## collecting verbs with high score (relevant verbs) BUT TEST!\n",
    "    good_verbs = []\n",
    "    for i in tf_idfs:\n",
    "        if i[1] > 0.4:\n",
    "            good_verbs.append(i[0])\n",
    "    return good_verbs"
   ]
  },
  {
   "cell_type": "code",
   "execution_count": 90,
   "metadata": {
    "collapsed": true
   },
   "outputs": [],
   "source": [
    "## saving the list of the relevant verbs in txt file\n",
    "good_verbs = get_good_verbs()\n",
    "with open('only relevant verbs.txt', 'w', encoding = 'utf-8') as v:\n",
    "    for i in good_verbs:\n",
    "        v.write(i + '\\n')"
   ]
  },
  {
   "cell_type": "code",
   "execution_count": 91,
   "metadata": {
    "collapsed": true
   },
   "outputs": [],
   "source": [
    "## saving all verbs into json file\n",
    "save_to_json(\"only relevant verbs.json\", good_verbs)"
   ]
  }
 ],
 "metadata": {
  "kernelspec": {
   "display_name": "Python 3",
   "language": "python",
   "name": "python3"
  },
  "language_info": {
   "codemirror_mode": {
    "name": "ipython",
    "version": 3
   },
   "file_extension": ".py",
   "mimetype": "text/x-python",
   "name": "python",
   "nbconvert_exporter": "python",
   "pygments_lexer": "ipython3",
   "version": "3.6.1"
  }
 },
 "nbformat": 4,
 "nbformat_minor": 2
}
