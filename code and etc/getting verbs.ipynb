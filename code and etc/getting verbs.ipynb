{
 "cells": [
  {
   "cell_type": "code",
   "execution_count": 69,
   "metadata": {
    "collapsed": true
   },
   "outputs": [],
   "source": [
    "import pymorphy2 as pm2 \n",
    "pmm = pm2.MorphAnalyzer() \n",
    "from pymystem3 import Mystem\n",
    "m = Mystem()\n",
    "import re\n",
    "import os"
   ]
  },
  {
   "cell_type": "code",
   "execution_count": 70,
   "metadata": {
    "collapsed": true
   },
   "outputs": [],
   "source": [
    "def get_all_verbs(text):\n",
    "    verbs = {}\n",
    "    n_text = re.sub(r'[^\\w\\s]','', text) \n",
    "    n_text = re.sub(r'\\d', '', n_text) \n",
    "    n_text = re.sub(r'[A-Za-z]', '', n_text)\n",
    "    print('start analysing')\n",
    "    ana = m.analyze(n_text)\n",
    "    print('analyse is ready')\n",
    "    for word in ana:\n",
    "        if 'analysis' in word:\n",
    "            gr = word['analysis'][0]['gr']\n",
    "            pos = gr.split('=')[0].split(',')[0]\n",
    "            if pos == 'V':\n",
    "                verb = word['analysis'][0]['lex']\n",
    "                print(verb)\n",
    "                if verb in verbs:\n",
    "                    verbs[verb] += 1\n",
    "                else:\n",
    "                    verbs[verb] = 1\n",
    "    return verbs"
   ]
  },
  {
   "cell_type": "code",
   "execution_count": 68,
   "metadata": {},
   "outputs": [
    {
     "name": "stdout",
     "output_type": "stream",
     "text": [
      "Геометрия  неотъемлемая составляющая общей культуры а геометрические методы служат одним из инструме\n",
      "start analysing\n"
     ]
    },
    {
     "ename": "KeyboardInterrupt",
     "evalue": "",
     "output_type": "error",
     "traceback": [
      "\u001b[1;31m---------------------------------------------------------------------------\u001b[0m",
      "\u001b[1;31mKeyboardInterrupt\u001b[0m                         Traceback (most recent call last)",
      "\u001b[1;32m<ipython-input-68-57bfd86f7528>\u001b[0m in \u001b[0;36m<module>\u001b[1;34m()\u001b[0m\n\u001b[0;32m      1\u001b[0m \u001b[1;32mwith\u001b[0m \u001b[0mopen\u001b[0m\u001b[1;33m(\u001b[0m\u001b[1;34m'test.txt'\u001b[0m\u001b[1;33m,\u001b[0m \u001b[1;34m'r'\u001b[0m\u001b[1;33m,\u001b[0m \u001b[0mencoding\u001b[0m\u001b[1;33m=\u001b[0m\u001b[1;34m'utf-8'\u001b[0m\u001b[1;33m)\u001b[0m \u001b[1;32mas\u001b[0m \u001b[0mt\u001b[0m\u001b[1;33m:\u001b[0m\u001b[1;33m\u001b[0m\u001b[0m\n\u001b[0;32m      2\u001b[0m     \u001b[0mtext\u001b[0m \u001b[1;33m=\u001b[0m \u001b[0mt\u001b[0m\u001b[1;33m.\u001b[0m\u001b[0mread\u001b[0m\u001b[1;33m(\u001b[0m\u001b[1;33m)\u001b[0m\u001b[1;33m\u001b[0m\u001b[0m\n\u001b[1;32m----> 3\u001b[1;33m \u001b[0mverbs\u001b[0m \u001b[1;33m=\u001b[0m \u001b[0mget_all_verbs\u001b[0m\u001b[1;33m(\u001b[0m\u001b[0mtext\u001b[0m\u001b[1;33m)\u001b[0m\u001b[1;33m\u001b[0m\u001b[0m\n\u001b[0m",
      "\u001b[1;32m<ipython-input-67-12167b5f2f54>\u001b[0m in \u001b[0;36mget_all_verbs\u001b[1;34m(text)\u001b[0m\n\u001b[0;32m      6\u001b[0m     \u001b[0mprint\u001b[0m\u001b[1;33m(\u001b[0m\u001b[0mn_text\u001b[0m\u001b[1;33m[\u001b[0m\u001b[1;33m:\u001b[0m\u001b[1;36m100\u001b[0m\u001b[1;33m]\u001b[0m\u001b[1;33m)\u001b[0m\u001b[1;33m\u001b[0m\u001b[0m\n\u001b[0;32m      7\u001b[0m     \u001b[0mprint\u001b[0m\u001b[1;33m(\u001b[0m\u001b[1;34m'start analysing'\u001b[0m\u001b[1;33m)\u001b[0m\u001b[1;33m\u001b[0m\u001b[0m\n\u001b[1;32m----> 8\u001b[1;33m     \u001b[0mana\u001b[0m \u001b[1;33m=\u001b[0m \u001b[0mm\u001b[0m\u001b[1;33m.\u001b[0m\u001b[0manalyze\u001b[0m\u001b[1;33m(\u001b[0m\u001b[0mn_text\u001b[0m\u001b[1;33m)\u001b[0m\u001b[1;33m\u001b[0m\u001b[0m\n\u001b[0m\u001b[0;32m      9\u001b[0m     \u001b[0mprint\u001b[0m\u001b[1;33m(\u001b[0m\u001b[1;34m'analyse is ready'\u001b[0m\u001b[1;33m)\u001b[0m\u001b[1;33m\u001b[0m\u001b[0m\n\u001b[0;32m     10\u001b[0m     \u001b[1;32mfor\u001b[0m \u001b[0mword\u001b[0m \u001b[1;32min\u001b[0m \u001b[0mana\u001b[0m\u001b[1;33m:\u001b[0m\u001b[1;33m\u001b[0m\u001b[0m\n",
      "\u001b[1;32mC:\\Users\\Sony\\Anaconda3\\lib\\site-packages\\pymystem3\\mystem.py\u001b[0m in \u001b[0;36manalyze\u001b[1;34m(self, text)\u001b[0m\n\u001b[0;32m    247\u001b[0m         \u001b[0mresult\u001b[0m \u001b[1;33m=\u001b[0m \u001b[1;33m[\u001b[0m\u001b[1;33m]\u001b[0m\u001b[1;33m\u001b[0m\u001b[0m\n\u001b[0;32m    248\u001b[0m         \u001b[1;32mfor\u001b[0m \u001b[0mline\u001b[0m \u001b[1;32min\u001b[0m \u001b[0mtext\u001b[0m\u001b[1;33m.\u001b[0m\u001b[0msplitlines\u001b[0m\u001b[1;33m(\u001b[0m\u001b[1;33m)\u001b[0m\u001b[1;33m:\u001b[0m\u001b[1;33m\u001b[0m\u001b[0m\n\u001b[1;32m--> 249\u001b[1;33m             \u001b[0mresult\u001b[0m\u001b[1;33m.\u001b[0m\u001b[0mextend\u001b[0m\u001b[1;33m(\u001b[0m\u001b[0mself\u001b[0m\u001b[1;33m.\u001b[0m\u001b[0m_analyze_impl\u001b[0m\u001b[1;33m(\u001b[0m\u001b[0mline\u001b[0m\u001b[1;33m)\u001b[0m\u001b[1;33m)\u001b[0m\u001b[1;33m\u001b[0m\u001b[0m\n\u001b[0m\u001b[0;32m    250\u001b[0m         \u001b[1;32mreturn\u001b[0m \u001b[0mresult\u001b[0m\u001b[1;33m\u001b[0m\u001b[0m\n\u001b[0;32m    251\u001b[0m \u001b[1;33m\u001b[0m\u001b[0m\n",
      "\u001b[1;32mC:\\Users\\Sony\\Anaconda3\\lib\\site-packages\\pymystem3\\mystem.py\u001b[0m in \u001b[0;36m_analyze_impl\u001b[1;34m(self, text)\u001b[0m\n\u001b[0;32m    310\u001b[0m             \u001b[0mself\u001b[0m\u001b[1;33m.\u001b[0m\u001b[0m_procin\u001b[0m\u001b[1;33m.\u001b[0m\u001b[0mwrite\u001b[0m\u001b[1;33m(\u001b[0m\u001b[0m_NL\u001b[0m\u001b[1;33m)\u001b[0m\u001b[1;33m\u001b[0m\u001b[0m\n\u001b[0;32m    311\u001b[0m \u001b[1;33m\u001b[0m\u001b[0m\n\u001b[1;32m--> 312\u001b[1;33m             \u001b[0mout\u001b[0m\u001b[1;33m,\u001b[0m \u001b[0m_\u001b[0m \u001b[1;33m=\u001b[0m \u001b[0mself\u001b[0m\u001b[1;33m.\u001b[0m\u001b[0m_proc\u001b[0m\u001b[1;33m.\u001b[0m\u001b[0mcommunicate\u001b[0m\u001b[1;33m(\u001b[0m\u001b[1;33m)\u001b[0m\u001b[1;33m\u001b[0m\u001b[0m\n\u001b[0m\u001b[0;32m    313\u001b[0m             \u001b[0mself\u001b[0m\u001b[1;33m.\u001b[0m\u001b[0m_proc\u001b[0m \u001b[1;33m=\u001b[0m \u001b[1;32mNone\u001b[0m\u001b[1;33m\u001b[0m\u001b[0m\n\u001b[0;32m    314\u001b[0m             \u001b[1;32mtry\u001b[0m\u001b[1;33m:\u001b[0m\u001b[1;33m\u001b[0m\u001b[0m\n",
      "\u001b[1;32mC:\\Users\\Sony\\Anaconda3\\lib\\subprocess.py\u001b[0m in \u001b[0;36mcommunicate\u001b[1;34m(self, input, timeout)\u001b[0m\n\u001b[0;32m    834\u001b[0m \u001b[1;33m\u001b[0m\u001b[0m\n\u001b[0;32m    835\u001b[0m             \u001b[1;32mtry\u001b[0m\u001b[1;33m:\u001b[0m\u001b[1;33m\u001b[0m\u001b[0m\n\u001b[1;32m--> 836\u001b[1;33m                 \u001b[0mstdout\u001b[0m\u001b[1;33m,\u001b[0m \u001b[0mstderr\u001b[0m \u001b[1;33m=\u001b[0m \u001b[0mself\u001b[0m\u001b[1;33m.\u001b[0m\u001b[0m_communicate\u001b[0m\u001b[1;33m(\u001b[0m\u001b[0minput\u001b[0m\u001b[1;33m,\u001b[0m \u001b[0mendtime\u001b[0m\u001b[1;33m,\u001b[0m \u001b[0mtimeout\u001b[0m\u001b[1;33m)\u001b[0m\u001b[1;33m\u001b[0m\u001b[0m\n\u001b[0m\u001b[0;32m    837\u001b[0m             \u001b[1;32mfinally\u001b[0m\u001b[1;33m:\u001b[0m\u001b[1;33m\u001b[0m\u001b[0m\n\u001b[0;32m    838\u001b[0m                 \u001b[0mself\u001b[0m\u001b[1;33m.\u001b[0m\u001b[0m_communication_started\u001b[0m \u001b[1;33m=\u001b[0m \u001b[1;32mTrue\u001b[0m\u001b[1;33m\u001b[0m\u001b[0m\n",
      "\u001b[1;32mC:\\Users\\Sony\\Anaconda3\\lib\\subprocess.py\u001b[0m in \u001b[0;36m_communicate\u001b[1;34m(self, input, endtime, orig_timeout)\u001b[0m\n\u001b[0;32m   1080\u001b[0m             \u001b[1;31m# calls communicate again.\u001b[0m\u001b[1;33m\u001b[0m\u001b[1;33m\u001b[0m\u001b[0m\n\u001b[0;32m   1081\u001b[0m             \u001b[1;32mif\u001b[0m \u001b[0mself\u001b[0m\u001b[1;33m.\u001b[0m\u001b[0mstdout\u001b[0m \u001b[1;32mis\u001b[0m \u001b[1;32mnot\u001b[0m \u001b[1;32mNone\u001b[0m\u001b[1;33m:\u001b[0m\u001b[1;33m\u001b[0m\u001b[0m\n\u001b[1;32m-> 1082\u001b[1;33m                 \u001b[0mself\u001b[0m\u001b[1;33m.\u001b[0m\u001b[0mstdout_thread\u001b[0m\u001b[1;33m.\u001b[0m\u001b[0mjoin\u001b[0m\u001b[1;33m(\u001b[0m\u001b[0mself\u001b[0m\u001b[1;33m.\u001b[0m\u001b[0m_remaining_time\u001b[0m\u001b[1;33m(\u001b[0m\u001b[0mendtime\u001b[0m\u001b[1;33m)\u001b[0m\u001b[1;33m)\u001b[0m\u001b[1;33m\u001b[0m\u001b[0m\n\u001b[0m\u001b[0;32m   1083\u001b[0m                 \u001b[1;32mif\u001b[0m \u001b[0mself\u001b[0m\u001b[1;33m.\u001b[0m\u001b[0mstdout_thread\u001b[0m\u001b[1;33m.\u001b[0m\u001b[0mis_alive\u001b[0m\u001b[1;33m(\u001b[0m\u001b[1;33m)\u001b[0m\u001b[1;33m:\u001b[0m\u001b[1;33m\u001b[0m\u001b[0m\n\u001b[0;32m   1084\u001b[0m                     \u001b[1;32mraise\u001b[0m \u001b[0mTimeoutExpired\u001b[0m\u001b[1;33m(\u001b[0m\u001b[0mself\u001b[0m\u001b[1;33m.\u001b[0m\u001b[0margs\u001b[0m\u001b[1;33m,\u001b[0m \u001b[0morig_timeout\u001b[0m\u001b[1;33m)\u001b[0m\u001b[1;33m\u001b[0m\u001b[0m\n",
      "\u001b[1;32mC:\\Users\\Sony\\Anaconda3\\lib\\threading.py\u001b[0m in \u001b[0;36mjoin\u001b[1;34m(self, timeout)\u001b[0m\n\u001b[0;32m   1054\u001b[0m \u001b[1;33m\u001b[0m\u001b[0m\n\u001b[0;32m   1055\u001b[0m         \u001b[1;32mif\u001b[0m \u001b[0mtimeout\u001b[0m \u001b[1;32mis\u001b[0m \u001b[1;32mNone\u001b[0m\u001b[1;33m:\u001b[0m\u001b[1;33m\u001b[0m\u001b[0m\n\u001b[1;32m-> 1056\u001b[1;33m             \u001b[0mself\u001b[0m\u001b[1;33m.\u001b[0m\u001b[0m_wait_for_tstate_lock\u001b[0m\u001b[1;33m(\u001b[0m\u001b[1;33m)\u001b[0m\u001b[1;33m\u001b[0m\u001b[0m\n\u001b[0m\u001b[0;32m   1057\u001b[0m         \u001b[1;32melse\u001b[0m\u001b[1;33m:\u001b[0m\u001b[1;33m\u001b[0m\u001b[0m\n\u001b[0;32m   1058\u001b[0m             \u001b[1;31m# the behavior of a negative timeout isn't documented, but\u001b[0m\u001b[1;33m\u001b[0m\u001b[1;33m\u001b[0m\u001b[0m\n",
      "\u001b[1;32mC:\\Users\\Sony\\Anaconda3\\lib\\threading.py\u001b[0m in \u001b[0;36m_wait_for_tstate_lock\u001b[1;34m(self, block, timeout)\u001b[0m\n\u001b[0;32m   1070\u001b[0m         \u001b[1;32mif\u001b[0m \u001b[0mlock\u001b[0m \u001b[1;32mis\u001b[0m \u001b[1;32mNone\u001b[0m\u001b[1;33m:\u001b[0m  \u001b[1;31m# already determined that the C code is done\u001b[0m\u001b[1;33m\u001b[0m\u001b[0m\n\u001b[0;32m   1071\u001b[0m             \u001b[1;32massert\u001b[0m \u001b[0mself\u001b[0m\u001b[1;33m.\u001b[0m\u001b[0m_is_stopped\u001b[0m\u001b[1;33m\u001b[0m\u001b[0m\n\u001b[1;32m-> 1072\u001b[1;33m         \u001b[1;32melif\u001b[0m \u001b[0mlock\u001b[0m\u001b[1;33m.\u001b[0m\u001b[0macquire\u001b[0m\u001b[1;33m(\u001b[0m\u001b[0mblock\u001b[0m\u001b[1;33m,\u001b[0m \u001b[0mtimeout\u001b[0m\u001b[1;33m)\u001b[0m\u001b[1;33m:\u001b[0m\u001b[1;33m\u001b[0m\u001b[0m\n\u001b[0m\u001b[0;32m   1073\u001b[0m             \u001b[0mlock\u001b[0m\u001b[1;33m.\u001b[0m\u001b[0mrelease\u001b[0m\u001b[1;33m(\u001b[0m\u001b[1;33m)\u001b[0m\u001b[1;33m\u001b[0m\u001b[0m\n\u001b[0;32m   1074\u001b[0m             \u001b[0mself\u001b[0m\u001b[1;33m.\u001b[0m\u001b[0m_stop\u001b[0m\u001b[1;33m(\u001b[0m\u001b[1;33m)\u001b[0m\u001b[1;33m\u001b[0m\u001b[0m\n",
      "\u001b[1;31mKeyboardInterrupt\u001b[0m: "
     ]
    }
   ],
   "source": [
    "with open('test.txt', 'r', encoding='utf-8') as t:\n",
    "    text = t.read()\n",
    "verbs = get_all_verbs(text)"
   ]
  },
  {
   "cell_type": "code",
   "execution_count": 4,
   "metadata": {},
   "outputs": [
    {
     "data": {
      "text/plain": [
       "{'базироваться': 1,\n",
       " 'быть': 2,\n",
       " 'включать': 1,\n",
       " 'владеть': 2,\n",
       " 'вносить': 1,\n",
       " 'возникать': 1,\n",
       " 'вселять': 1,\n",
       " 'выполнять': 1,\n",
       " 'выражаться': 1,\n",
       " 'вычислять': 1,\n",
       " 'говорить': 1,\n",
       " 'давать': 1,\n",
       " 'доходить': 1,\n",
       " 'жить': 1,\n",
       " 'измерять': 4,\n",
       " 'изображать': 1,\n",
       " 'изучаться': 1,\n",
       " 'иметь': 3,\n",
       " 'исчерпывать': 1,\n",
       " 'лежать': 2,\n",
       " 'мочь': 1,\n",
       " 'накоплять': 2,\n",
       " 'находиться': 1,\n",
       " 'начинать': 1,\n",
       " 'носить': 1,\n",
       " 'обладать': 1,\n",
       " 'обусловливать': 1,\n",
       " 'означать': 1,\n",
       " 'оказываться': 1,\n",
       " 'определяться': 1,\n",
       " 'основываться': 1,\n",
       " 'осуществлять': 1,\n",
       " 'относиться': 1,\n",
       " 'подтвердить': 1,\n",
       " 'подтверждать': 1,\n",
       " 'позволять': 2,\n",
       " 'поражать': 1,\n",
       " 'представлять': 1,\n",
       " 'приводить': 1,\n",
       " 'проводить': 1,\n",
       " 'продвигать': 1,\n",
       " 'происходить': 1,\n",
       " 'располагать': 1,\n",
       " 'решать': 2,\n",
       " 'свидетельствовать': 1,\n",
       " 'связывать': 1,\n",
       " 'служить': 5,\n",
       " 'совершать': 1,\n",
       " 'создавать': 1,\n",
       " 'составлять': 1,\n",
       " 'состоять': 2,\n",
       " 'сохраняться': 1,\n",
       " 'способствовать': 3,\n",
       " 'становиться': 3,\n",
       " 'считаться': 1,\n",
       " 'сыграть': 1,\n",
       " 'требовать': 1,\n",
       " 'убеждать': 1,\n",
       " 'характеризовать': 1,\n",
       " 'являться': 5}"
      ]
     },
     "execution_count": 4,
     "metadata": {},
     "output_type": "execute_result"
    }
   ],
   "source": [
    "verbs"
   ]
  },
  {
   "cell_type": "code",
   "execution_count": 71,
   "metadata": {
    "collapsed": true
   },
   "outputs": [],
   "source": [
    "def get_tfs(verbs):\n",
    "    tfs = []\n",
    "    v_total = sum(verbs.values())\n",
    "    for key, value in verbs.items():\n",
    "        tf = value/v_total\n",
    "        tfs.append((key, tf))\n",
    "    return tfs"
   ]
  },
  {
   "cell_type": "code",
   "execution_count": 32,
   "metadata": {},
   "outputs": [
    {
     "name": "stdout",
     "output_type": "stream",
     "text": [
      "[('составлять', 0.011904761904761904), ('служить', 0.05952380952380952), ('способствовать', 0.03571428571428571), ('вселять', 0.011904761904761904), ('считаться', 0.011904761904761904), ('являться', 0.05952380952380952), ('связывать', 0.011904761904761904), ('подтверждать', 0.011904761904761904), ('характеризовать', 0.011904761904761904), ('владеть', 0.023809523809523808), ('продвигать', 0.011904761904761904), ('оказываться', 0.011904761904761904), ('обладать', 0.011904761904761904), ('иметь', 0.03571428571428571), ('определяться', 0.011904761904761904), ('убеждать', 0.011904761904761904), ('относиться', 0.011904761904761904), ('создавать', 0.011904761904761904), ('происходить', 0.011904761904761904), ('измерять', 0.047619047619047616), ('означать', 0.011904761904761904), ('быть', 0.023809523809523808), ('обусловливать', 0.011904761904761904), ('решать', 0.023809523809523808), ('доходить', 0.011904761904761904), ('говорить', 0.011904761904761904), ('находиться', 0.011904761904761904), ('требовать', 0.011904761904761904), ('позволять', 0.023809523809523808), ('выполнять', 0.011904761904761904), ('свидетельствовать', 0.011904761904761904), ('представлять', 0.011904761904761904), ('вычислять', 0.011904761904761904), ('возникать', 0.011904761904761904), ('сохраняться', 0.011904761904761904), ('поражать', 0.011904761904761904), ('приводить', 0.011904761904761904), ('накоплять', 0.023809523809523808), ('становиться', 0.03571428571428571), ('вносить', 0.011904761904761904), ('носить', 0.011904761904761904), ('подтвердить', 0.011904761904761904), ('базироваться', 0.011904761904761904), ('выражаться', 0.011904761904761904), ('сыграть', 0.011904761904761904), ('жить', 0.011904761904761904), ('состоять', 0.023809523809523808), ('совершать', 0.011904761904761904), ('основываться', 0.011904761904761904), ('осуществлять', 0.011904761904761904), ('проводить', 0.011904761904761904), ('начинать', 0.011904761904761904), ('давать', 0.011904761904761904), ('исчерпывать', 0.011904761904761904), ('включать', 0.011904761904761904), ('изучаться', 0.011904761904761904), ('лежать', 0.023809523809523808), ('располагать', 0.011904761904761904), ('мочь', 0.011904761904761904), ('изображать', 0.011904761904761904)]\n"
     ]
    }
   ],
   "source": [
    "print(get_tfs(verbs))"
   ]
  },
  {
   "cell_type": "code",
   "execution_count": 72,
   "metadata": {
    "collapsed": true
   },
   "outputs": [],
   "source": [
    "def get_lemmas(article):\n",
    "    article = re.sub(r'[^\\w\\s]','', article) \n",
    "    article = re.sub(r'\\d', '', article) \n",
    "    article = re.sub(r'[A-Za-z]', '', article)\n",
    "    lem_article = [pmm.normal_forms(x)[0] for x in article.split()]\n",
    "    return lem_article"
   ]
  },
  {
   "cell_type": "code",
   "execution_count": 73,
   "metadata": {
    "collapsed": true
   },
   "outputs": [],
   "source": [
    "def get_idfs(verbs, folder):\n",
    "    f_total = len([name for name in os.listdir(folder) if os.path.isfile(os.path.join(folder, name))]) + 1\n",
    "    v_presence = {}\n",
    "    for verb in verbs:\n",
    "        v_presence[verb] = 1\n",
    "    idfs = []\n",
    "    for root, dirs, files in os.walk(folder):\n",
    "        for name in files:\n",
    "            if name != 'all geometry.txt': \n",
    "                with open(os.path.join(folder, name), 'r', encoding='utf-8') as a:\n",
    "                    article = a.read()\n",
    "                lemmas = get_lemmas(article)\n",
    "                for verb in verbs:\n",
    "                    if verb in lemmas:\n",
    "                        v_presence[verb] += 1\n",
    "    for verb in v_presence:\n",
    "        idf = f_total/v_presence[verb]\n",
    "        idfs.append((verb, idf))\n",
    "    return idfs"
   ]
  },
  {
   "cell_type": "code",
   "execution_count": 31,
   "metadata": {},
   "outputs": [
    {
     "name": "stdout",
     "output_type": "stream",
     "text": [
      "[('составлять', 4.0), ('служить', 4.0), ('способствовать', 2.0), ('вселять', 4.0), ('считаться', 4.0), ('являться', 2.0), ('связывать', 4.0), ('подтверждать', 4.0), ('характеризовать', 4.0), ('владеть', 4.0), ('продвигать', 4.0), ('оказываться', 4.0), ('обладать', 4.0), ('иметь', 2.0), ('определяться', 4.0), ('убеждать', 4.0), ('относиться', 4.0), ('создавать', 4.0), ('происходить', 4.0), ('измерять', 4.0), ('означать', 4.0), ('быть', 0.8), ('обусловливать', 4.0), ('решать', 2.0), ('доходить', 4.0), ('говорить', 2.0), ('находиться', 2.0), ('требовать', 4.0), ('позволять', 4.0), ('выполнять', 4.0), ('свидетельствовать', 4.0), ('представлять', 4.0), ('вычислять', 4.0), ('возникать', 4.0), ('сохраняться', 4.0), ('поражать', 4.0), ('приводить', 4.0), ('накоплять', 4.0), ('становиться', 2.0), ('вносить', 4.0), ('носить', 4.0), ('подтвердить', 4.0), ('базироваться', 4.0), ('выражаться', 4.0), ('сыграть', 4.0), ('жить', 1.3333333333333333), ('состоять', 4.0), ('совершать', 4.0), ('основываться', 4.0), ('осуществлять', 4.0), ('проводить', 4.0), ('начинать', 4.0), ('давать', 4.0), ('исчерпывать', 4.0), ('включать', 2.0), ('изучаться', 4.0), ('лежать', 2.0), ('располагать', 4.0), ('мочь', 2.0), ('изображать', 4.0)]\n"
     ]
    }
   ],
   "source": [
    "print(get_idfs(verbs, 'test collection'))"
   ]
  },
  {
   "cell_type": "code",
   "execution_count": null,
   "metadata": {},
   "outputs": [],
   "source": [
    "def get_tf_idf(verbs):\n",
    "    #with open('all geometry.txt', 'r', encoding='utf-8') as t:\n",
    "    #    text = t.read()\n",
    "    #verbs = get_all_verbs(text)\n",
    "    tfs = get_tfs(verbs)\n",
    "    idfs = get_idfs(verbs, 'test collection')\n",
    "    tf_idfs = []\n",
    "    for t, i in zip(tfs, idfs):\n",
    "        tf_idf = t[1] * i[1]\n",
    "        tf_idfs.append((t[0], tf_idf))\n",
    "    return tf_idfs"
   ]
  },
  {
   "cell_type": "code",
   "execution_count": null,
   "metadata": {
    "collapsed": true
   },
   "outputs": [],
   "source": [
    "with open(\"verbs.json\", \"w\", encoding = 'utf-8') as v:\n",
    "    json.dump(verbs, v)"
   ]
  },
  {
   "cell_type": "code",
   "execution_count": null,
   "metadata": {
    "collapsed": true
   },
   "outputs": [],
   "source": [
    "with open(\"verbs.json\", \"r\", encoding = 'utf-8') as v:\n",
    "    verbs = json.load(v)"
   ]
  },
  {
   "cell_type": "code",
   "execution_count": null,
   "metadata": {},
   "outputs": [
    {
     "name": "stdout",
     "output_type": "stream",
     "text": [
      " Геометрия  неотъемлемая составляющая общей культуры а геометрические методы служат одним из инструм\n",
      "start analysing\n"
     ]
    }
   ],
   "source": [
    "tf_idfs = get_tf_idf(verbs)\n",
    "print(tf_idfs)"
   ]
  },
  {
   "cell_type": "code",
   "execution_count": null,
   "metadata": {
    "collapsed": true
   },
   "outputs": [],
   "source": [
    "with open(\"tf-idf.json\", \"w\", encoding = 'utf-8') as t:\n",
    "    json.dump(verbs, t)"
   ]
  },
  {
   "cell_type": "code",
   "execution_count": null,
   "metadata": {
    "collapsed": true
   },
   "outputs": [],
   "source": [
    "with open(\"tf-idf.json\", \"r\", encoding = 'utf-8') as t:\n",
    "    verbs = json.load(t)"
   ]
  },
  {
   "cell_type": "code",
   "execution_count": null,
   "metadata": {
    "collapsed": true
   },
   "outputs": [],
   "source": [
    "with open(\"verbs.csv\", \"a\", encoding = 'utf-8') as v:\n",
    "    v.write('verbs;tf-idf')\n",
    "    for i in tf_idfs:\n",
    "        v.write(i[0] + ';' + i[1])"
   ]
  }
 ],
 "metadata": {
  "kernelspec": {
   "display_name": "Python 3",
   "language": "python",
   "name": "python3"
  },
  "language_info": {
   "codemirror_mode": {
    "name": "ipython",
    "version": 3
   },
   "file_extension": ".py",
   "mimetype": "text/x-python",
   "name": "python",
   "nbconvert_exporter": "python",
   "pygments_lexer": "ipython3",
   "version": "3.6.1"
  }
 },
 "nbformat": 4,
 "nbformat_minor": 2
}
