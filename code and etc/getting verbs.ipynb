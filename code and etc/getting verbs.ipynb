{
 "cells": [
  {
   "cell_type": "markdown",
   "metadata": {},
   "source": [
    "This program gets the list of relevant verbs for texts on Geometry using TF-IDF metric.\n",
    "Geometry texts were collected in 'getting corpus' program.\n",
    "The texts collection was collected in from 'getting collection' program.\n",
    "The verbs are saved into json, txt and csv files."
   ]
  },
  {
   "cell_type": "code",
   "execution_count": 33,
   "metadata": {
    "collapsed": true
   },
   "outputs": [],
   "source": [
    "import pymorphy2 as pm2 \n",
    "pmm = pm2.MorphAnalyzer() \n",
    "from pymystem3 import Mystem\n",
    "m = Mystem()\n",
    "import re\n",
    "import os\n",
    "import json"
   ]
  },
  {
   "cell_type": "code",
   "execution_count": 3,
   "metadata": {
    "collapsed": true
   },
   "outputs": [],
   "source": [
    "def get_all_verbs(text): ## getting all verbs and their numbers from the text\n",
    "    verbs = {}\n",
    "    n_text = re.sub(r'[^\\w\\s]','', text) \n",
    "    n_text = re.sub(r'\\d', '', n_text) \n",
    "    n_text = re.sub(r'[A-Za-z]', '', n_text)\n",
    "    print('start analysing')\n",
    "    ana = m.analyze(n_text)\n",
    "    print('analyse is ready')\n",
    "    for word in ana:\n",
    "        if 'analysis' in word:\n",
    "            gr = word['analysis'][0]['gr']\n",
    "            pos = gr.split('=')[0].split(',')[0]\n",
    "            if pos == 'V':\n",
    "                verb = word['analysis'][0]['lex']\n",
    "                if verb in verbs:\n",
    "                    verbs[verb] += 1\n",
    "                else:\n",
    "                    verbs[verb] = 1\n",
    "    return verbs"
   ]
  },
  {
   "cell_type": "code",
   "execution_count": 34,
   "metadata": {
    "collapsed": true
   },
   "outputs": [],
   "source": [
    "def pmm_get_all_verbs(text): ## getting all verbs and their numbers from the text\n",
    "    verbs = {}\n",
    "    n_text = re.sub(r'[^\\w\\s]','', text) \n",
    "    n_text = re.sub(r'\\d', '', n_text) \n",
    "    n_text = re.sub(r'[A-Za-z]', '', n_text)\n",
    "    for word in n_text.split():\n",
    "        w_gr = str(pmm.tag(word)[0])\n",
    "        pos = w_gr.split()[0].split(',')[0]\n",
    "        if pos == 'VERB':\n",
    "            verb = pmm.normal_forms(word)[0]\n",
    "            if verb in verbs:\n",
    "                verbs[verb] += 1\n",
    "            else:\n",
    "                verbs[verb] = 1\n",
    "    return verbs"
   ]
  },
  {
   "cell_type": "code",
   "execution_count": 4,
   "metadata": {},
   "outputs": [
    {
     "name": "stdout",
     "output_type": "stream",
     "text": [
      "start analysing\n",
      "analyse is ready\n"
     ]
    }
   ],
   "source": [
    "with open('test.txt', 'r', encoding='utf-8') as t: ## got all verbs (from the TEST text!)\n",
    "    text = t.read()\n",
    "verbs = get_all_verbs(text)"
   ]
  },
  {
   "cell_type": "code",
   "execution_count": 35,
   "metadata": {
    "collapsed": true
   },
   "outputs": [],
   "source": [
    "with open('test.txt', 'r', encoding='utf-8') as t: ## got all verbs (from the TEST text!)\n",
    "    text = t.read()\n",
    "pmm_verbs = pmm_get_all_verbs(text)"
   ]
  },
  {
   "cell_type": "code",
   "execution_count": 5,
   "metadata": {
    "collapsed": true
   },
   "outputs": [],
   "source": [
    "def save_to_json(title, variable): ## saving a variable in json a file. title - name of the json file\n",
    "    with open(title, \"w\", encoding = 'utf-8') as t:\n",
    "        json.dump(variable, t)"
   ]
  },
  {
   "cell_type": "code",
   "execution_count": 6,
   "metadata": {
    "collapsed": true
   },
   "outputs": [],
   "source": [
    "def get_from_json(title, variable): ## getting a variable from a json file. title - name of the json file\n",
    "    with open(title, \"r\", encoding = 'utf-8') as t:\n",
    "        variable = json.load(t)\n",
    "    return variable"
   ]
  },
  {
   "cell_type": "code",
   "execution_count": 10,
   "metadata": {
    "collapsed": true
   },
   "outputs": [],
   "source": [
    "## saving all verbs into json file\n",
    "save_to_json(\"test_verbs.json\", verbs)"
   ]
  },
  {
   "cell_type": "code",
   "execution_count": 13,
   "metadata": {
    "collapsed": true
   },
   "outputs": [],
   "source": [
    "## getting all verbs from the json file\n",
    "verbs = get_from_json(\"test_verbs.json\", verbs)"
   ]
  },
  {
   "cell_type": "code",
   "execution_count": 36,
   "metadata": {},
   "outputs": [
    {
     "data": {
      "text/plain": [
       "{'базироваться': 1,\n",
       " 'быть': 2,\n",
       " 'включать': 1,\n",
       " 'владеть': 2,\n",
       " 'внести': 1,\n",
       " 'выражаться': 1,\n",
       " 'дать': 1,\n",
       " 'жить': 1,\n",
       " 'измерять': 3,\n",
       " 'изучаться': 1,\n",
       " 'иметь': 2,\n",
       " 'исчерпывать': 1,\n",
       " 'лежать': 2,\n",
       " 'мочь': 1,\n",
       " 'находиться': 1,\n",
       " 'носить': 1,\n",
       " 'обладать': 1,\n",
       " 'означать': 1,\n",
       " 'оказываться': 1,\n",
       " 'определяться': 1,\n",
       " 'осуществить': 1,\n",
       " 'относиться': 1,\n",
       " 'подтвердить': 1,\n",
       " 'подтверждать': 1,\n",
       " 'привести': 1,\n",
       " 'продвигать': 1,\n",
       " 'происходить': 1,\n",
       " 'свидетельствовать': 1,\n",
       " 'служить': 5,\n",
       " 'состоять': 1,\n",
       " 'способствовать': 2,\n",
       " 'становиться': 1,\n",
       " 'стать': 2,\n",
       " 'считаться': 1,\n",
       " 'сыграть': 1,\n",
       " 'требовать': 1,\n",
       " 'убеждать': 1,\n",
       " 'характеризовать': 1,\n",
       " 'являться': 5}"
      ]
     },
     "execution_count": 36,
     "metadata": {},
     "output_type": "execute_result"
    }
   ],
   "source": [
    "pmm_verbs"
   ]
  },
  {
   "cell_type": "code",
   "execution_count": 14,
   "metadata": {},
   "outputs": [
    {
     "data": {
      "text/plain": [
       "{'базироваться': 1,\n",
       " 'быть': 2,\n",
       " 'включать': 1,\n",
       " 'владеть': 2,\n",
       " 'вносить': 1,\n",
       " 'возникать': 1,\n",
       " 'вселять': 1,\n",
       " 'выполнять': 1,\n",
       " 'выражаться': 1,\n",
       " 'вычислять': 1,\n",
       " 'говорить': 1,\n",
       " 'давать': 1,\n",
       " 'доходить': 1,\n",
       " 'жить': 1,\n",
       " 'измерять': 4,\n",
       " 'изображать': 1,\n",
       " 'изучаться': 1,\n",
       " 'иметь': 3,\n",
       " 'исчерпывать': 1,\n",
       " 'лежать': 2,\n",
       " 'мочь': 1,\n",
       " 'накоплять': 2,\n",
       " 'находиться': 1,\n",
       " 'начинать': 1,\n",
       " 'носить': 1,\n",
       " 'обладать': 1,\n",
       " 'обусловливать': 1,\n",
       " 'означать': 1,\n",
       " 'оказываться': 1,\n",
       " 'определяться': 1,\n",
       " 'основываться': 1,\n",
       " 'осуществлять': 1,\n",
       " 'относиться': 1,\n",
       " 'подтвердить': 1,\n",
       " 'подтверждать': 1,\n",
       " 'позволять': 2,\n",
       " 'поражать': 1,\n",
       " 'представлять': 1,\n",
       " 'приводить': 1,\n",
       " 'проводить': 1,\n",
       " 'продвигать': 1,\n",
       " 'происходить': 1,\n",
       " 'располагать': 1,\n",
       " 'решать': 2,\n",
       " 'свидетельствовать': 1,\n",
       " 'связывать': 1,\n",
       " 'служить': 5,\n",
       " 'совершать': 1,\n",
       " 'создавать': 1,\n",
       " 'составлять': 1,\n",
       " 'состоять': 2,\n",
       " 'сохраняться': 1,\n",
       " 'способствовать': 3,\n",
       " 'становиться': 3,\n",
       " 'считаться': 1,\n",
       " 'сыграть': 1,\n",
       " 'требовать': 1,\n",
       " 'убеждать': 1,\n",
       " 'характеризовать': 1,\n",
       " 'являться': 5}"
      ]
     },
     "execution_count": 14,
     "metadata": {},
     "output_type": "execute_result"
    }
   ],
   "source": [
    "verbs"
   ]
  },
  {
   "cell_type": "code",
   "execution_count": 16,
   "metadata": {
    "collapsed": true
   },
   "outputs": [],
   "source": [
    "def get_tfs(verbs): ## getting tfs for all the verbs\n",
    "    tfs = []\n",
    "    v_total = sum(verbs.values())\n",
    "    for key, value in verbs.items():\n",
    "        tf = value/v_total\n",
    "        tfs.append((key, tf))\n",
    "    return tfs"
   ]
  },
  {
   "cell_type": "code",
   "execution_count": 17,
   "metadata": {},
   "outputs": [
    {
     "name": "stdout",
     "output_type": "stream",
     "text": [
      "[('составлять', 0.011904761904761904), ('служить', 0.05952380952380952), ('способствовать', 0.03571428571428571), ('вселять', 0.011904761904761904), ('считаться', 0.011904761904761904), ('являться', 0.05952380952380952), ('связывать', 0.011904761904761904), ('подтверждать', 0.011904761904761904), ('характеризовать', 0.011904761904761904), ('владеть', 0.023809523809523808), ('продвигать', 0.011904761904761904), ('оказываться', 0.011904761904761904), ('обладать', 0.011904761904761904), ('иметь', 0.03571428571428571), ('определяться', 0.011904761904761904), ('убеждать', 0.011904761904761904), ('относиться', 0.011904761904761904), ('создавать', 0.011904761904761904), ('происходить', 0.011904761904761904), ('измерять', 0.047619047619047616), ('означать', 0.011904761904761904), ('быть', 0.023809523809523808), ('обусловливать', 0.011904761904761904), ('решать', 0.023809523809523808), ('доходить', 0.011904761904761904), ('говорить', 0.011904761904761904), ('находиться', 0.011904761904761904), ('требовать', 0.011904761904761904), ('позволять', 0.023809523809523808), ('выполнять', 0.011904761904761904), ('свидетельствовать', 0.011904761904761904), ('представлять', 0.011904761904761904), ('вычислять', 0.011904761904761904), ('возникать', 0.011904761904761904), ('сохраняться', 0.011904761904761904), ('поражать', 0.011904761904761904), ('приводить', 0.011904761904761904), ('накоплять', 0.023809523809523808), ('становиться', 0.03571428571428571), ('вносить', 0.011904761904761904), ('носить', 0.011904761904761904), ('подтвердить', 0.011904761904761904), ('базироваться', 0.011904761904761904), ('выражаться', 0.011904761904761904), ('сыграть', 0.011904761904761904), ('жить', 0.011904761904761904), ('состоять', 0.023809523809523808), ('совершать', 0.011904761904761904), ('основываться', 0.011904761904761904), ('осуществлять', 0.011904761904761904), ('проводить', 0.011904761904761904), ('начинать', 0.011904761904761904), ('давать', 0.011904761904761904), ('исчерпывать', 0.011904761904761904), ('включать', 0.011904761904761904), ('изучаться', 0.011904761904761904), ('лежать', 0.023809523809523808), ('располагать', 0.011904761904761904), ('мочь', 0.011904761904761904), ('изображать', 0.011904761904761904)]\n"
     ]
    }
   ],
   "source": [
    "print(get_tfs(verbs))"
   ]
  },
  {
   "cell_type": "code",
   "execution_count": 18,
   "metadata": {
    "collapsed": true
   },
   "outputs": [],
   "source": [
    "def get_lemmas(article): ## turning text into the list of its lemmas\n",
    "    article = re.sub(r'[^\\w\\s]','', article) \n",
    "    article = re.sub(r'\\d', '', article) \n",
    "    article = re.sub(r'[A-Za-z]', '', article)\n",
    "    lem_article = [pmm.normal_forms(x)[0] for x in article.split()]\n",
    "    return lem_article"
   ]
  },
  {
   "cell_type": "code",
   "execution_count": 20,
   "metadata": {
    "collapsed": true
   },
   "outputs": [],
   "source": [
    "def get_idfs(verbs, folder): ## getting idfs for all the verbs. folder - the folder containing the collection of the documents\n",
    "    f_total = len([name for name in os.listdir(folder) if os.path.isfile(os.path.join(folder, name))]) \n",
    "    v_presence = {}\n",
    "    for verb in verbs:\n",
    "        v_presence[verb] = 1\n",
    "    idfs = []\n",
    "    for root, dirs, files in os.walk(folder):\n",
    "        for name in files:\n",
    "            if name != 'all geometry.txt': ##\n",
    "                with open(os.path.join(folder, name), 'r', encoding='utf-8') as a:\n",
    "                    article = a.read()\n",
    "                lemmas = get_lemmas(article)\n",
    "                for verb in verbs:\n",
    "                    if verb in lemmas:\n",
    "                        v_presence[verb] += 1\n",
    "    for verb in v_presence:\n",
    "        idf = f_total/v_presence[verb]\n",
    "        idfs.append((verb, idf))\n",
    "    return idfs"
   ]
  },
  {
   "cell_type": "code",
   "execution_count": 21,
   "metadata": {},
   "outputs": [
    {
     "name": "stdout",
     "output_type": "stream",
     "text": [
      "[('составлять', 14.222222222222221), ('служить', 128.0), ('способствовать', 64.0), ('вселять', 128.0), ('считаться', 32.0), ('являться', 7.529411764705882), ('связывать', 128.0), ('подтверждать', 42.666666666666664), ('характеризовать', 42.666666666666664), ('владеть', 42.666666666666664), ('продвигать', 128.0), ('оказываться', 32.0), ('обладать', 128.0), ('иметь', 8.533333333333333), ('определяться', 64.0), ('убеждать', 128.0), ('относиться', 10.666666666666666), ('создавать', 64.0), ('происходить', 42.666666666666664), ('измерять', 128.0), ('означать', 128.0), ('быть', 1.7534246575342465), ('обусловливать', 128.0), ('решать', 64.0), ('доходить', 64.0), ('говорить', 10.666666666666666), ('находиться', 12.8), ('требовать', 25.6), ('позволять', 128.0), ('выполнять', 32.0), ('свидетельствовать', 128.0), ('представлять', 14.222222222222221), ('вычислять', 128.0), ('возникать', 18.285714285714285), ('сохраняться', 128.0), ('поражать', 128.0), ('приводить', 128.0), ('накоплять', 128.0), ('становиться', 64.0), ('вносить', 128.0), ('носить', 42.666666666666664), ('подтвердить', 18.285714285714285), ('базироваться', 128.0), ('выражаться', 128.0), ('сыграть', 25.6), ('жить', 9.846153846153847), ('состоять', 128.0), ('совершать', 64.0), ('основываться', 128.0), ('осуществлять', 64.0), ('проводить', 21.333333333333332), ('начинать', 64.0), ('давать', 32.0), ('исчерпывать', 128.0), ('включать', 42.666666666666664), ('изучаться', 128.0), ('лежать', 32.0), ('располагать', 128.0), ('мочь', 3.878787878787879), ('изображать', 128.0)]\n"
     ]
    }
   ],
   "source": [
    "print(get_idfs(verbs, 'test collection'))"
   ]
  },
  {
   "cell_type": "code",
   "execution_count": 22,
   "metadata": {
    "collapsed": true
   },
   "outputs": [],
   "source": [
    "def get_tf_idf(verbs): ## getting tf-idf for all the verbs\n",
    "    \n",
    "    #with open('all geometry.txt', 'r', encoding='utf-8') as t:\n",
    "    #    text = t.read()\n",
    "    #verbs = get_all_verbs(text)\n",
    "    tfs = get_tfs(verbs)\n",
    "    idfs = get_idfs(verbs, 'test collection')\n",
    "    tf_idfs = []\n",
    "    for t, i in zip(tfs, idfs):\n",
    "        tf_idf = t[1] * i[1]\n",
    "        tf_idfs.append((t[0], tf_idf))\n",
    "    return tf_idfs"
   ]
  },
  {
   "cell_type": "code",
   "execution_count": 23,
   "metadata": {},
   "outputs": [
    {
     "name": "stdout",
     "output_type": "stream",
     "text": [
      "[('составлять', 0.1693121693121693), ('служить', 7.619047619047619), ('способствовать', 2.2857142857142856), ('вселять', 1.5238095238095237), ('считаться', 0.38095238095238093), ('являться', 0.44817927170868344), ('связывать', 1.5238095238095237), ('подтверждать', 0.5079365079365079), ('характеризовать', 0.5079365079365079), ('владеть', 1.0158730158730158), ('продвигать', 1.5238095238095237), ('оказываться', 0.38095238095238093), ('обладать', 1.5238095238095237), ('иметь', 0.30476190476190473), ('определяться', 0.7619047619047619), ('убеждать', 1.5238095238095237), ('относиться', 0.12698412698412698), ('создавать', 0.7619047619047619), ('происходить', 0.5079365079365079), ('измерять', 6.095238095238095), ('означать', 1.5238095238095237), ('быть', 0.04174820613176777), ('обусловливать', 1.5238095238095237), ('решать', 1.5238095238095237), ('доходить', 0.7619047619047619), ('говорить', 0.12698412698412698), ('находиться', 0.1523809523809524), ('требовать', 0.3047619047619048), ('позволять', 3.0476190476190474), ('выполнять', 0.38095238095238093), ('свидетельствовать', 1.5238095238095237), ('представлять', 0.1693121693121693), ('вычислять', 1.5238095238095237), ('возникать', 0.21768707482993194), ('сохраняться', 1.5238095238095237), ('поражать', 1.5238095238095237), ('приводить', 1.5238095238095237), ('накоплять', 3.0476190476190474), ('становиться', 2.2857142857142856), ('вносить', 1.5238095238095237), ('носить', 0.5079365079365079), ('подтвердить', 0.21768707482993194), ('базироваться', 1.5238095238095237), ('выражаться', 1.5238095238095237), ('сыграть', 0.3047619047619048), ('жить', 0.11721611721611722), ('состоять', 3.0476190476190474), ('совершать', 0.7619047619047619), ('основываться', 1.5238095238095237), ('осуществлять', 0.7619047619047619), ('проводить', 0.25396825396825395), ('начинать', 0.7619047619047619), ('давать', 0.38095238095238093), ('исчерпывать', 1.5238095238095237), ('включать', 0.5079365079365079), ('изучаться', 1.5238095238095237), ('лежать', 0.7619047619047619), ('располагать', 1.5238095238095237), ('мочь', 0.046176046176046176), ('изображать', 1.5238095238095237)]\n"
     ]
    }
   ],
   "source": [
    "tf_idfs = get_tf_idf(verbs) ## got tf-idfs\n",
    "print(tf_idfs)"
   ]
  },
  {
   "cell_type": "code",
   "execution_count": 24,
   "metadata": {
    "collapsed": true
   },
   "outputs": [],
   "source": [
    "## saving all verbs into json file \n",
    "save_to_json(\"test_tf-idf.json\", tf_idfs)"
   ]
  },
  {
   "cell_type": "code",
   "execution_count": 25,
   "metadata": {
    "collapsed": true
   },
   "outputs": [],
   "source": [
    "## getting all verbs from the json file \n",
    "tf_idfs = get_from_json(\"test_tf-idf.json\", tf_idfs)"
   ]
  },
  {
   "cell_type": "code",
   "execution_count": 26,
   "metadata": {
    "scrolled": true
   },
   "outputs": [
    {
     "data": {
      "text/plain": [
       "[['составлять', 0.1693121693121693],\n",
       " ['служить', 7.619047619047619],\n",
       " ['способствовать', 2.2857142857142856],\n",
       " ['вселять', 1.5238095238095237],\n",
       " ['считаться', 0.38095238095238093],\n",
       " ['являться', 0.44817927170868344],\n",
       " ['связывать', 1.5238095238095237],\n",
       " ['подтверждать', 0.5079365079365079],\n",
       " ['характеризовать', 0.5079365079365079],\n",
       " ['владеть', 1.0158730158730158],\n",
       " ['продвигать', 1.5238095238095237],\n",
       " ['оказываться', 0.38095238095238093],\n",
       " ['обладать', 1.5238095238095237],\n",
       " ['иметь', 0.30476190476190473],\n",
       " ['определяться', 0.7619047619047619],\n",
       " ['убеждать', 1.5238095238095237],\n",
       " ['относиться', 0.12698412698412698],\n",
       " ['создавать', 0.7619047619047619],\n",
       " ['происходить', 0.5079365079365079],\n",
       " ['измерять', 6.095238095238095],\n",
       " ['означать', 1.5238095238095237],\n",
       " ['быть', 0.04174820613176777],\n",
       " ['обусловливать', 1.5238095238095237],\n",
       " ['решать', 1.5238095238095237],\n",
       " ['доходить', 0.7619047619047619],\n",
       " ['говорить', 0.12698412698412698],\n",
       " ['находиться', 0.1523809523809524],\n",
       " ['требовать', 0.3047619047619048],\n",
       " ['позволять', 3.0476190476190474],\n",
       " ['выполнять', 0.38095238095238093],\n",
       " ['свидетельствовать', 1.5238095238095237],\n",
       " ['представлять', 0.1693121693121693],\n",
       " ['вычислять', 1.5238095238095237],\n",
       " ['возникать', 0.21768707482993194],\n",
       " ['сохраняться', 1.5238095238095237],\n",
       " ['поражать', 1.5238095238095237],\n",
       " ['приводить', 1.5238095238095237],\n",
       " ['накоплять', 3.0476190476190474],\n",
       " ['становиться', 2.2857142857142856],\n",
       " ['вносить', 1.5238095238095237],\n",
       " ['носить', 0.5079365079365079],\n",
       " ['подтвердить', 0.21768707482993194],\n",
       " ['базироваться', 1.5238095238095237],\n",
       " ['выражаться', 1.5238095238095237],\n",
       " ['сыграть', 0.3047619047619048],\n",
       " ['жить', 0.11721611721611722],\n",
       " ['состоять', 3.0476190476190474],\n",
       " ['совершать', 0.7619047619047619],\n",
       " ['основываться', 1.5238095238095237],\n",
       " ['осуществлять', 0.7619047619047619],\n",
       " ['проводить', 0.25396825396825395],\n",
       " ['начинать', 0.7619047619047619],\n",
       " ['давать', 0.38095238095238093],\n",
       " ['исчерпывать', 1.5238095238095237],\n",
       " ['включать', 0.5079365079365079],\n",
       " ['изучаться', 1.5238095238095237],\n",
       " ['лежать', 0.7619047619047619],\n",
       " ['располагать', 1.5238095238095237],\n",
       " ['мочь', 0.046176046176046176],\n",
       " ['изображать', 1.5238095238095237]]"
      ]
     },
     "execution_count": 26,
     "metadata": {},
     "output_type": "execute_result"
    }
   ],
   "source": [
    "tf_idfs"
   ]
  },
  {
   "cell_type": "code",
   "execution_count": 27,
   "metadata": {
    "collapsed": true
   },
   "outputs": [],
   "source": [
    "## making a csv table containing verbs and their tf-idfs\n",
    "with open(\"test_verbs and tf-idf.csv\", \"a\", encoding = 'utf-8') as v:\n",
    "    v.write('verbs;tf-idf\\n')\n",
    "    for i in tf_idfs:\n",
    "        v.write(i[0] + ';' + str(i[1]) + '\\n')"
   ]
  },
  {
   "cell_type": "code",
   "execution_count": 28,
   "metadata": {
    "collapsed": true
   },
   "outputs": [],
   "source": [
    "def get_good_verbs(): ## collecting verbs with high score (relevant verbs) BUT TEST!\n",
    "    good_verbs = []\n",
    "    for i in tf_idfs:\n",
    "        if i[1] > 0.7:\n",
    "            good_verbs.append(i[0])\n",
    "    return good_verbs"
   ]
  },
  {
   "cell_type": "code",
   "execution_count": 29,
   "metadata": {
    "collapsed": true
   },
   "outputs": [],
   "source": [
    "## saving the list of the relevant verbs in txt file\n",
    "good_verbs = get_good_verbs()\n",
    "with open('test only relevant verbs.txt', 'w', encoding = 'utf-8') as v:\n",
    "    for i in good_verbs:\n",
    "        v.write(i + '\\n')"
   ]
  },
  {
   "cell_type": "code",
   "execution_count": 30,
   "metadata": {
    "collapsed": true
   },
   "outputs": [],
   "source": [
    "## saving all verbs into json file\n",
    "save_to_json(\"test only relevant verbs.json\", good_verbs)"
   ]
  },
  {
   "cell_type": "code",
   "execution_count": 31,
   "metadata": {
    "collapsed": true
   },
   "outputs": [],
   "source": [
    "## getting all verbs from json the file\n",
    "good_verbs = get_from_json(\"test only relevant verbs.json\", good_verbs)"
   ]
  },
  {
   "cell_type": "code",
   "execution_count": 32,
   "metadata": {},
   "outputs": [
    {
     "data": {
      "text/plain": [
       "['служить',\n",
       " 'способствовать',\n",
       " 'вселять',\n",
       " 'связывать',\n",
       " 'владеть',\n",
       " 'продвигать',\n",
       " 'обладать',\n",
       " 'определяться',\n",
       " 'убеждать',\n",
       " 'создавать',\n",
       " 'измерять',\n",
       " 'означать',\n",
       " 'обусловливать',\n",
       " 'решать',\n",
       " 'доходить',\n",
       " 'позволять',\n",
       " 'свидетельствовать',\n",
       " 'вычислять',\n",
       " 'сохраняться',\n",
       " 'поражать',\n",
       " 'приводить',\n",
       " 'накоплять',\n",
       " 'становиться',\n",
       " 'вносить',\n",
       " 'базироваться',\n",
       " 'выражаться',\n",
       " 'состоять',\n",
       " 'совершать',\n",
       " 'основываться',\n",
       " 'осуществлять',\n",
       " 'начинать',\n",
       " 'исчерпывать',\n",
       " 'изучаться',\n",
       " 'лежать',\n",
       " 'располагать',\n",
       " 'изображать']"
      ]
     },
     "execution_count": 32,
     "metadata": {},
     "output_type": "execute_result"
    }
   ],
   "source": [
    "good_verbs"
   ]
  },
  {
   "cell_type": "code",
   "execution_count": null,
   "metadata": {
    "collapsed": true
   },
   "outputs": [],
   "source": []
  }
 ],
 "metadata": {
  "kernelspec": {
   "display_name": "Python 3",
   "language": "python",
   "name": "python3"
  },
  "language_info": {
   "codemirror_mode": {
    "name": "ipython",
    "version": 3
   },
   "file_extension": ".py",
   "mimetype": "text/x-python",
   "name": "python",
   "nbconvert_exporter": "python",
   "pygments_lexer": "ipython3",
   "version": "3.6.1"
  }
 },
 "nbformat": 4,
 "nbformat_minor": 2
}
