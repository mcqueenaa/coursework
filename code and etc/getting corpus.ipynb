{
 "cells": [
  {
   "cell_type": "markdown",
   "metadata": {},
   "source": [
    "This program collects the corpus of school books on Geometry from https://docbaza.ru."
   ]
  },
  {
   "cell_type": "code",
   "execution_count": 1,
   "metadata": {
    "collapsed": true
   },
   "outputs": [],
   "source": [
    "import urllib.request\n",
    "import re\n",
    "import os\n",
    "import shutil\n",
    "user_agent = 'Mozilla/5.0 (Windows NT 6.1; Win64; x64)'"
   ]
  },
  {
   "cell_type": "code",
   "execution_count": 5,
   "metadata": {
    "collapsed": true
   },
   "outputs": [],
   "source": [
    "common_link = \"https://docbaza.ru\"\n",
    "links = [\"/urok/geometr/07/001/\", \"/urok/geometr/07/003/\", \"/urok/geometr/07/005/\", \"/urok/geometr/07/006/\", \"/urok/geometr/10/001/\", \"/urok/geometr/10/004/\", \"/urok/geometr/10/005/\", \"/urok/geometr/10/007/\", ]"
   ]
  },
  {
   "cell_type": "code",
   "execution_count": 12,
   "metadata": {
    "collapsed": true
   },
   "outputs": [],
   "source": [
    "def download_html(pageUrl): ## downloading text of an html page\n",
    "    try:\n",
    "        page = urllib.request.Request(pageUrl, headers={'User-Agent':user_agent})\n",
    "        with urllib.request.urlopen(page) as hpage:\n",
    "            html = hpage.read().decode('windows-1251')\n",
    "        return html\n",
    "    except:\n",
    "        print('there\\'s no such page', pageUrl)\n",
    "        html = None\n",
    "        return html"
   ]
  },
  {
   "cell_type": "code",
   "execution_count": null,
   "metadata": {
    "collapsed": true
   },
   "outputs": [],
   "source": [
    "def get_numbofpages(page): ## getting number of html pages for a book\n",
    "    regPages = re.compile('Страницы учебника:.*?(\\d+)</A> </div></p>', re.DOTALL)\n",
    "    if re.search(regPages, page):\n",
    "        total = re.search(regPages, page).group(1)\n",
    "    return total"
   ]
  },
  {
   "cell_type": "code",
   "execution_count": 89,
   "metadata": {
    "collapsed": true
   },
   "outputs": [],
   "source": [
    "def get_cleantext(page): ## getting clean text from the page\n",
    "    regText = re.compile('текст страницы, которая находится выше\\):(.*?)<hr>', re.DOTALL)\n",
    "    regSub = re.compile('<sub>.*?</sub>', re.DOTALL)\n",
    "    regSup = re.compile('<sup>.*?</sup>', re.DOTALL)\n",
    "    regUnder = re.compile('<p><sub>.*?</sub>.*?\\.</p>', re.DOTALL)\n",
    "    regTag = regTag = re.compile('<.*?>', re.DOTALL)\n",
    "    if re.search(regText, page):\n",
    "        text = re.search(regText, page).group(1)\n",
    "    text = re.sub(regSub,'', text)\n",
    "    text = re.sub(regUnder,'', text)\n",
    "    text = re.sub(regSup,'', text)\n",
    "    text = re.sub(regTag, ' ', text)\n",
    "    text = re.sub(r'&.*?;', '', text)\n",
    "    text = re.sub(r'[Рр]ис\\. \\d+? ', '', text)\n",
    "    text = re.sub(r'(\\n)+', '\\n', text)\n",
    "    text = re.sub(r'(\\s)+', ' ', text)\n",
    "    return text"
   ]
  },
  {
   "cell_type": "code",
   "execution_count": 104,
   "metadata": {
    "collapsed": true
   },
   "outputs": [],
   "source": [
    "def get_books(): ## getting all geometry books from the site\n",
    "    for idx, link in enumerate(links):\n",
    "        main_link = common_link + link\n",
    "        mainpage = download_html(main_link)\n",
    "        total = get_numbofpages(mainpage)\n",
    "        for i in range(5, int(total)):\n",
    "            if len(str(i)) == 1:\n",
    "                current = download_html(main_link + '00' + str(i) + '.html')\n",
    "            elif len(str(i)) == 2:\n",
    "                current = download_html(main_link + '0' + str(i) + '.html')\n",
    "            else:\n",
    "                current = download_html(main_link + str(i) + '.html')\n",
    "            curr_text = get_cleantext(current)\n",
    "            with open('geometry/book' + str(idx) + '.txt', 'a', encoding = 'utf-8') as b:\n",
    "                b.write(curr_text)"
   ]
  },
  {
   "cell_type": "code",
   "execution_count": null,
   "metadata": {},
   "outputs": [],
   "source": [
    "get_books() # got all books"
   ]
  },
  {
   "cell_type": "code",
   "execution_count": 66,
   "metadata": {},
   "outputs": [
    {
     "name": "stderr",
     "output_type": "stream",
     "text": [
      "C:\\Users\\Sony\\Anaconda3\\lib\\site-packages\\gensim\\utils.py:1197: UserWarning: detected Windows; aliasing chunkize to chunkize_serial\n",
      "  warnings.warn(\"detected Windows; aliasing chunkize to chunkize_serial\")\n"
     ]
    }
   ],
   "source": [
    "from gensim.utils import tokenize\n",
    "from gensim.summarization.textcleaner import split_sentences"
   ]
  },
  {
   "cell_type": "code",
   "execution_count": 15,
   "metadata": {
    "collapsed": true
   },
   "outputs": [],
   "source": [
    "## cleaning the book which was collected manually\n",
    "with open('book8.txt', 'r', encoding='utf-8') as b:\n",
    "    book = b.read()\n",
    "\n",
    "regQL = re.compile('\\?[A-Za-z]+')\n",
    "regLt = re.compile(' [A-Za-z]+')\n",
    "regOp = re.compile('[\\\\=+*°<>/]')\n",
    "book = re.sub(regOp, '', book)\n",
    "book = re.sub(r'\\d\\)', '', book)\n",
    "book = re.sub(r'\\d\\.', '', book)\n",
    "book = re.sub(r'\\d', '', book)\n",
    "book = re.sub(regQL, '', book)\n",
    "book = re.sub(regLt, '', book)\n",
    "book = re.sub(r'\\?{2,}', '', book)\n",
    "book = re.sub(r' +', ' ', book)\n",
    "book = re.sub(r'(\\n|\\n )+', '\\n', book)\n",
    "\n",
    "with open('new_book8.txt', 'w', encoding='utf-8') as b:\n",
    "    b.write(book)"
   ]
  },
  {
   "cell_type": "code",
   "execution_count": 54,
   "metadata": {
    "collapsed": true
   },
   "outputs": [],
   "source": [
    "#got more o less clean texts for the first 8 books by changing the book titles in \"with open(title, ...)\"\n",
    "\n",
    "with open('book7.txt', 'r', encoding='utf-8') as b:\n",
    "    book = b.read()\n",
    "\n",
    "regPic = re.compile('(Рис\\.|рис\\.)')\n",
    "regBrPic = re.compile('\\(.*?рис\\..*?\\)')\n",
    "regLt = re.compile(' [A-Za-z]+')\n",
    "regOp = re.compile('[\\\\=+*°<>/\\|]')\n",
    "book = re.sub(regOp, '', book)\n",
    "book = re.sub(r'&.*?;', '', book)\n",
    "book = re.sub(r'\\d\\)', '', book)\n",
    "book = re.sub(r'\\d\\.', '', book)\n",
    "book = re.sub(r'§ ', '', book)\n",
    "book = re.sub(r'\\d', '', book)\n",
    "book = re.sub(regBrPic, '', book)\n",
    "book = re.sub(regPic, '', book)\n",
    "book = re.sub(r' \\( ', '', book)\n",
    "book = re.sub(regLt, '', book)\n",
    "book = re.sub(r' +', ' ', book)\n",
    "book = re.sub(r'(\\n|\\n )+', '\\n', book)\n",
    "\n",
    "with open('new_book7.txt', 'w', encoding='utf-8') as b:\n",
    "    b.write(book)"
   ]
  },
  {
   "cell_type": "code",
   "execution_count": null,
   "metadata": {},
   "outputs": [],
   "source": [
    "#got all books in one file\n",
    "for root, dirs, files in os.walk('geometry'):\n",
    "    for name in files:\n",
    "        with open(os.path.join('geometry', name), 'r', encoding='utf-8') as b:\n",
    "            book = b.read()\n",
    "        with open('all geometry.txt', 'a', encoding = 'utf-8') as b:\n",
    "            b.write(book)\n",
    "\n",
    "with open('all geometry.txt', 'r', encoding = 'utf-8') as b:\n",
    "    allbook = b.read()"
   ]
  }
 ],
 "metadata": {
  "kernelspec": {
   "display_name": "Python 3",
   "language": "python",
   "name": "python3"
  },
  "language_info": {
   "codemirror_mode": {
    "name": "ipython",
    "version": 3
   },
   "file_extension": ".py",
   "mimetype": "text/x-python",
   "name": "python",
   "nbconvert_exporter": "python",
   "pygments_lexer": "ipython3",
   "version": "3.6.1"
  }
 },
 "nbformat": 4,
 "nbformat_minor": 2
}
